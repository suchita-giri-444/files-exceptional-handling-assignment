{
  "nbformat": 4,
  "nbformat_minor": 0,
  "metadata": {
    "colab": {
      "provenance": []
    },
    "kernelspec": {
      "name": "python3",
      "display_name": "Python 3"
    },
    "language_info": {
      "name": "python"
    }
  },
  "cells": [
    {
      "cell_type": "code",
      "execution_count": null,
      "metadata": {
        "id": "sB9r7NZTiA6u"
      },
      "outputs": [],
      "source": [
        "1. What is the difference between interpreted and compiled languages?\n"
      ]
    },
    {
      "cell_type": "markdown",
      "source": [
        "-> Interpreted languages are executed line by line, meaning the code is read and executed by an interpreter at runtime (e.g., Python, Ruby). These languages are usually more flexible but slower due to the real-time interpretation.\n",
        "Compiled languages are translated into machine code before execution by a compiler (e.g., C, C++). This typically results in faster performance, but the process requires compilation before running the program."
      ],
      "metadata": {
        "id": "IoEHLfY-j00k"
      }
    },
    {
      "cell_type": "markdown",
      "source": [
        "2.What is Exception Handling in Python?\n",
        "\n",
        "-> Exception handling in Python allows you to manage errors that occur during program execution without crashing the program. You use try, except, else, and finally blocks to handle exceptions and define how to react when an error occurs."
      ],
      "metadata": {
        "id": "J0HC7_CaklwJ"
      }
    },
    {
      "cell_type": "markdown",
      "source": [
        "3.Purpose of the finally Block in Exception Handling:\n",
        "\n",
        "-> The finally block ensures that certain code runs, regardless of whether an exception was raised or not. It is typically used for cleanup activities, like closing files or releasing resources, which need to happen even if an error occurred."
      ],
      "metadata": {
        "id": "ES1jPToFk8CA"
      }
    },
    {
      "cell_type": "markdown",
      "source": [
        "4.What is Logging in Python?\n",
        "\n",
        "-> Logging is the process of recording messages or data during the execution of a program, typically for debugging, monitoring, or auditing purposes. The logging module in Python helps track events and errors.\n",
        "\n"
      ],
      "metadata": {
        "id": "C6QoUqBNlCG8"
      }
    },
    {
      "cell_type": "markdown",
      "source": [
        "5.Significance of the del Method in Python:\n",
        "-> The del method is a destructor method in Python, used for cleaning up objects when they are no longer in use. It’s invoked when an object is deleted or when the reference count drops to zero. However, relying on del for resource management is discouraged due to potential unpredictability with garbage collection."
      ],
      "metadata": {
        "id": "Gw-gigF-lHoW"
      }
    },
    {
      "cell_type": "markdown",
      "source": [
        "6.Difference Between import and from ... import in Python:\n",
        "-> Import module loads the entire module and requires using the module name to access functions or variables (e.g., module.function()). from module import something allows you to import specific items (functions, classes, variables) from a module directly, without needing to use the module name (e.g., function())."
      ],
      "metadata": {
        "id": "EN3VBCZ-lRNr"
      }
    },
    {
      "cell_type": "markdown",
      "source": [
        "7.Handling Multiple Exceptions in Python:\n",
        "-> You can handle multiple exceptions in Python by using multiple except blocks or by catching different types of exceptions in a single block (e.g., except (TypeError, ValueError))."
      ],
      "metadata": {
        "id": "ISpza6j6lcin"
      }
    },
    {
      "cell_type": "markdown",
      "source": [
        "8.Purpose of the with Statement in File Handling:\n",
        "-> The with statement ensures that resources, such as files, are properly managed. It automatically closes the file when done, even if an exception occurs within the block, making file handling more efficient and less error-prone."
      ],
      "metadata": {
        "id": "_-wzyOMvlkQV"
      }
    },
    {
      "cell_type": "markdown",
      "source": [
        "9.Difference Between Multithreading and Multiprocessing:\n",
        "-> Multithreading allows multiple threads to run in the same memory space and is best suited for I/O-bound tasks. Multiprocessing uses separate memory spaces and is suited for CPU-bound tasks, allowing true parallel execution by utilizing multiple CPU cores."
      ],
      "metadata": {
        "id": "05nEVQzalqEE"
      }
    },
    {
      "cell_type": "markdown",
      "source": [
        "10. Advantages of Using Logging in a Program:\n",
        "-> Logging provides insights into the program's behavior, helps debug errors, tracks the flow of execution, and assists in performance monitoring without interrupting the normal output of the program."
      ],
      "metadata": {
        "id": "WFvO5FIPl1jV"
      }
    },
    {
      "cell_type": "markdown",
      "source": [
        "11.Memory Management in Python:\n",
        "\n",
        "-> Python uses automatic memory management, which includes reference counting and garbage collection. The system keeps track of objects and their references, freeing memory once an object is no longer in use."
      ],
      "metadata": {
        "id": "NpFKxs88l-et"
      }
    },
    {
      "cell_type": "markdown",
      "source": [
        "12.Basic Steps in Exception Handling in Python:\n",
        "\n",
        "-> The basic steps are:\n",
        "Use try to write code that might cause an exception.\n",
        "Use except to catch and handle the exception.\n",
        "Optionally, use else if no exceptions occur.\n",
        "Use finally to execute cleanup actions, regardless of exceptions."
      ],
      "metadata": {
        "id": "YiwgJj4KmD4t"
      }
    },
    {
      "cell_type": "markdown",
      "source": [
        "13.Why is Memory Management Important in Python?\n",
        "\n",
        "-> Efficient memory management ensures that resources are not wasted, avoiding memory leaks and ensuring optimal program performance, especially when dealing with large datasets or long-running applications."
      ],
      "metadata": {
        "id": "le-K0Hm7mLKM"
      }
    },
    {
      "cell_type": "markdown",
      "source": [
        "14.Role of try and except in Exception Handling:\n",
        "->\n",
        "\n",
        "The try block contains code that may raise an exception.\n",
        "The except block catches and handles the exception, preventing the program from crashing."
      ],
      "metadata": {
        "id": "HpzcSTNnmPhg"
      }
    },
    {
      "cell_type": "markdown",
      "source": [
        "15.How Python's Garbage Collection System Works:\n",
        "\n",
        "-> Python’s garbage collection primarily uses reference counting to track objects. When an object’s reference count drops to zero, the memory is freed. Additionally, Python’s cyclic garbage collector detects and cleans up reference cycles."
      ],
      "metadata": {
        "id": "TZDUBd8UmZsk"
      }
    },
    {
      "cell_type": "markdown",
      "source": [
        "16.Purpose of the else Block in Exception Handling:\n",
        "\n",
        "-> The else block runs if no exceptions are raised in the try block. It is used to define code that should run when the program works as expected, without encountering errors.\n",
        "\n"
      ],
      "metadata": {
        "id": "IYXBWXaamv-F"
      }
    },
    {
      "cell_type": "markdown",
      "source": [
        "17.Common Logging Levels in Python:\n",
        "->\n",
        "\n",
        "DEBUG: Detailed information, typically for diagnosing problems.\n",
        "INFO: General information about the program’s operation.\n",
        "WARNING: Indications that something unexpected occurred, but the program is still running.\n",
        "ERROR: Errors that affect the program's execution but are recoverable.\n",
        "CRITICAL: Severe errors that may cause the program to terminate.\n",
        "\n",
        "\n"
      ],
      "metadata": {
        "id": "diPg_wNsm2j8"
      }
    },
    {
      "cell_type": "markdown",
      "source": [
        "18.Difference Between os.fork() and multiprocessing in Python:\n",
        "\n",
        "->os.fork() is a low-level function that creates a new child process in Unix-based systems.\n",
        "multiprocessing is a higher-level Python module that provides a more portable and convenient way to create and manage processes, abstracting platform-specific details."
      ],
      "metadata": {
        "id": "pOyMmOxgnFKe"
      }
    },
    {
      "cell_type": "markdown",
      "source": [
        "19.Importance of Closing a File in Python:\n",
        "\n",
        "-> Closing a file ensures that resources like memory and file handles are properly released, and any changes made to the file are saved. Failing to close files may result in memory leaks or data corruption."
      ],
      "metadata": {
        "id": "h-zFeWhdnQFe"
      }
    },
    {
      "cell_type": "markdown",
      "source": [
        "20.Difference Between file.read() and file.readline() in Python:\n",
        "\n",
        "->file.read() reads the entire content of a file at once.\n",
        "file.readline() reads a single line from the file each time it is called"
      ],
      "metadata": {
        "id": "oXB1vEHmnW6B"
      }
    },
    {
      "cell_type": "markdown",
      "source": [
        "21.What is the logging Module in Python Used For?\n",
        "\n",
        "-> The logging module is used to track and log events in a program, providing insights into execution flow, errors, and warnings. It’s useful for debugging, monitoring, and auditing applications."
      ],
      "metadata": {
        "id": "IGx5mNq9ngSS"
      }
    },
    {
      "cell_type": "markdown",
      "source": [
        "22.What is the os Module in Python Used for in File Handling?\n",
        "\n",
        "-> The os module provides functions to interact with the operating system, such as working with file paths, directories, and performing file system operations like renaming or deleting files."
      ],
      "metadata": {
        "id": "jOK-a6s3nkOg"
      }
    },
    {
      "cell_type": "markdown",
      "source": [
        "23.Challenges Associated with Memory Management in Python:\n",
        "\n",
        "-> Challenges include reference cycles (objects referring to each other), large memory consumption, and controlling the timing of garbage collection, which can impact performance."
      ],
      "metadata": {
        "id": "-XbLbBUjnnov"
      }
    },
    {
      "cell_type": "markdown",
      "source": [
        "24.How to Raise an Exception Manually in Python?\n",
        "\n",
        "-> You can raise an exception using the raise keyword, like this:"
      ],
      "metadata": {
        "id": "oSRdm-xgntxO"
      }
    },
    {
      "cell_type": "markdown",
      "source": [
        "25.Importance of Using Multithreading in Certain Applications:\n",
        "\n",
        "-> Multithreading is useful in applications that require concurrent execution, such as I/O-bound tasks, web servers, and UI applications. It allows the program to stay responsive by executing tasks in parallel while waiting for other tasks to complete.\n",
        "\n"
      ],
      "metadata": {
        "id": "4Dbman8_nwyp"
      }
    },
    {
      "cell_type": "markdown",
      "source": [
        "#PRACTICAL QUESTIONS"
      ],
      "metadata": {
        "id": "ZHP-zouFn2zt"
      }
    },
    {
      "cell_type": "markdown",
      "source": [
        "1.How can you open a file for writing in Python and write a string to it?"
      ],
      "metadata": {
        "id": "vp67G0Lbn9hS"
      }
    },
    {
      "cell_type": "code",
      "source": [
        "with open(\"file.txt\", \"w\") as file:\n",
        "    file.write(\"This is a string written to the file.\")"
      ],
      "metadata": {
        "id": "gOFhggCkoBWn"
      },
      "execution_count": null,
      "outputs": []
    },
    {
      "cell_type": "markdown",
      "source": [
        "2.Write a Python program to read the contents of a file and print each line:\n"
      ],
      "metadata": {
        "id": "8UpD1fXDoDzQ"
      }
    },
    {
      "cell_type": "code",
      "source": [
        "with open(\"file.txt\", \"r\") as file:\n",
        "    for line in file:\n",
        "        print(line.strip())  # .strip() removes the newline character"
      ],
      "metadata": {
        "id": "J0aSqkbpoGqX"
      },
      "execution_count": null,
      "outputs": []
    },
    {
      "cell_type": "markdown",
      "source": [
        "3.How would you handle a case where the file doesn't exist while trying to open it for reading?"
      ],
      "metadata": {
        "id": "J_ZMWe8JoLRo"
      }
    },
    {
      "cell_type": "code",
      "source": [
        "try:\n",
        "    with open(\"nonexistent_file.txt\", \"r\") as file:\n",
        "        content = file.read()\n",
        "except FileNotFoundError:\n",
        "    print(\"The file does not exist.\"):\n",
        "    destination_file.write(content)"
      ],
      "metadata": {
        "id": "QdiStSmMoOTV"
      },
      "execution_count": null,
      "outputs": []
    },
    {
      "cell_type": "markdown",
      "source": [
        "4.How would you catch and handle division by zero error in Python?"
      ],
      "metadata": {
        "id": "-7rj7SMSoQos"
      }
    },
    {
      "cell_type": "code",
      "source": [
        "with open(\"source.txt\", \"r\") as source_file:\n",
        "    content = source_file.read()\n",
        "\n",
        "with open(\"destination.txt\", \"w\") as destination_file:\n",
        "    destination_file.write(content)"
      ],
      "metadata": {
        "id": "N_6JaN1koTqd"
      },
      "execution_count": null,
      "outputs": []
    },
    {
      "cell_type": "markdown",
      "source": [
        "5.How would you catch and handle division by zero error in Python?\n"
      ],
      "metadata": {
        "id": "Kyo8eXlJoZgq"
      }
    },
    {
      "cell_type": "code",
      "source": [
        "try:\n",
        "    result = 10 / 0\n",
        "except ZeroDivisionError:\n",
        "    print(\"Error: Division by zero is not allowed.\")"
      ],
      "metadata": {
        "id": "MIy3J1lKov5l"
      },
      "execution_count": null,
      "outputs": []
    },
    {
      "cell_type": "markdown",
      "source": [
        "6.Write a Python program that logs an error message to a log file when a division by zero exception occurs:\n"
      ],
      "metadata": {
        "id": "ZDtXBi_PozpQ"
      }
    },
    {
      "cell_type": "code",
      "source": [
        "import logging\n",
        "\n",
        "logging.basicConfig(filename='error.log', level=logging.ERROR)\n",
        "\n",
        "try:\n",
        "    result = 10 / 0\n",
        "except ZeroDivisionError as e:\n",
        "    logging.error(\"Error occurred: %s\", e)"
      ],
      "metadata": {
        "id": "ZZdteK11o3Zz"
      },
      "execution_count": null,
      "outputs": []
    },
    {
      "cell_type": "markdown",
      "source": [
        "7.How do you log information at different levels (INFO, ERROR, WARNING) in Python using the logging module?"
      ],
      "metadata": {
        "id": "ltGpDF2ko6To"
      }
    },
    {
      "cell_type": "code",
      "source": [
        "import logging\n",
        "\n",
        "logging.basicConfig(level=logging.DEBUG)\n",
        "\n",
        "logging.debug(\"This is a debug message.\")\n",
        "logging.info(\"This is an info message.\")\n",
        "logging.warning(\"This is a warning message.\")\n",
        "logging.error(\"This is an error message.\")\n",
        "logging.critical(\"This is a critical message.\")"
      ],
      "metadata": {
        "id": "3hbQTW1io9zj"
      },
      "execution_count": null,
      "outputs": []
    },
    {
      "cell_type": "markdown",
      "source": [
        "8.Write a program to handle a file opening error using exception handling:"
      ],
      "metadata": {
        "id": "9k9_vVPvpAbI"
      }
    },
    {
      "cell_type": "code",
      "source": [
        "try:\n",
        "    with open(\"file.txt\", \"r\") as file:\n",
        "        content = file.read()\n",
        "except FileNotFoundError:\n",
        "    print(\"File not found, please check the file path.\")\n",
        "except Exception as e:\n",
        "    print(f\"An error occurred: {e}\")"
      ],
      "metadata": {
        "id": "LdG7MGp7pIn5"
      },
      "execution_count": null,
      "outputs": []
    },
    {
      "cell_type": "markdown",
      "source": [
        "9.How can you read a file line by line and store its content in a list in Python?"
      ],
      "metadata": {
        "id": "pT6BPB-apMRl"
      }
    },
    {
      "cell_type": "code",
      "source": [
        "lines = []\n",
        "with open(\"file.txt\", \"r\") as file:\n",
        "    lines = file.readlines()\n",
        "\n",
        "print(lines)"
      ],
      "metadata": {
        "id": "lGzNrIv4pRa2"
      },
      "execution_count": null,
      "outputs": []
    },
    {
      "cell_type": "markdown",
      "source": [
        "10.How can you append data to an existing file in Python?"
      ],
      "metadata": {
        "id": "1_CDV6FgpT8Y"
      }
    },
    {
      "cell_type": "code",
      "source": [
        "with open(\"file.txt\", \"a\") as file:\n",
        "    file.write(\"This is additional content.\")"
      ],
      "metadata": {
        "id": "s-hhLO-vpZ3d"
      },
      "execution_count": null,
      "outputs": []
    },
    {
      "cell_type": "markdown",
      "source": [
        "11.Write a Python program that uses a try-except block to handle an error when attempting to access a dictionary key that doesn't exist:\n",
        "\n"
      ],
      "metadata": {
        "id": "aeVMelN0peHS"
      }
    },
    {
      "cell_type": "code",
      "source": [
        "my_dict = {\"name\": \"John\", \"age\": 30}\n",
        "\n",
        "try:\n",
        "    value = my_dict[\"address\"]\n",
        "except KeyError:\n",
        "    print(\"Key not found in the dictionary.\")"
      ],
      "metadata": {
        "id": "saMGdGXCpilL"
      },
      "execution_count": null,
      "outputs": []
    },
    {
      "cell_type": "markdown",
      "source": [
        "12.Write a program that demonstrates using multiple except blocks to handle different types of exceptions:"
      ],
      "metadata": {
        "id": "tPJjSxgMprsW"
      }
    },
    {
      "cell_type": "code",
      "source": [
        "try:\n",
        "    num = int(input(\"Enter a number: \"))\n",
        "    result = 10 / num\n",
        "except ValueError:\n",
        "    print(\"Error: Invalid input, not a number.\")\n",
        "except ZeroDivisionError:\n",
        "    print(\"Error: Division by zero.\")\n",
        "except Exception as e:\n",
        "    print(f\"An unexpected error occurred: {e}\")"
      ],
      "metadata": {
        "id": "cL2PG7dLpxLR"
      },
      "execution_count": null,
      "outputs": []
    },
    {
      "cell_type": "markdown",
      "source": [
        "13.How would you check if a file exists before attempting to read it in Python?\n"
      ],
      "metadata": {
        "id": "Avp-kO_Zp2b7"
      }
    },
    {
      "cell_type": "code",
      "source": [
        "import os\n",
        "\n",
        "if os.path.exists(\"file.txt\"):\n",
        "    with open(\"file.txt\", \"r\") as file:\n",
        "        content = file.read()\n",
        "else:\n",
        "    print(\"The file does not exist.\")"
      ],
      "metadata": {
        "id": "yZqGGkmxp6Bo"
      },
      "execution_count": null,
      "outputs": []
    },
    {
      "cell_type": "markdown",
      "source": [
        "14.Write a program that uses the logging module to log both informational and error messages:"
      ],
      "metadata": {
        "id": "hIOz3no8p8zF"
      }
    },
    {
      "cell_type": "code",
      "source": [
        "import logging\n",
        "\n",
        "logging.basicConfig(filename='app.log', level=logging.DEBUG)\n",
        "\n",
        "logging.info(\"This is an info message.\")\n",
        "try:\n",
        "    result = 10 / 0\n",
        "except ZeroDivisionError as e:\n",
        "    logging.error(\"An error occurred: %s\", e)"
      ],
      "metadata": {
        "id": "tIy4yxs9qAgy"
      },
      "execution_count": null,
      "outputs": []
    },
    {
      "cell_type": "markdown",
      "source": [
        "15.Write a Python program that prints the content of a file and handles the case when the file is empty:\n"
      ],
      "metadata": {
        "id": "av10TBMsqDb5"
      }
    },
    {
      "cell_type": "code",
      "source": [
        "try:\n",
        "    with open(\"file.txt\", \"r\") as file:\n",
        "        content = file.read()\n",
        "        if content:\n",
        "            print(content)\n",
        "        else:\n",
        "            print(\"The file is empty.\")\n",
        "except FileNotFoundError:\n",
        "    print(\"The file does not exist.\")"
      ],
      "metadata": {
        "id": "W9AamVTUqHpM"
      },
      "execution_count": null,
      "outputs": []
    },
    {
      "cell_type": "markdown",
      "source": [
        "16.Demonstrate how to use memory profiling to check the memory usage of a small program:"
      ],
      "metadata": {
        "id": "gwiRGlG3qKqs"
      }
    },
    {
      "cell_type": "code",
      "source": [
        "# Install memory profiler first: pip install memory-profiler\n",
        "\n",
        "from memory_profiler import profile\n",
        "\n",
        "@profile\n",
        "def my_function():\n",
        "    a = [i for i in range(10000)]\n",
        "    return a\n",
        "\n",
        "my_function()"
      ],
      "metadata": {
        "id": "5Ke9INyAqPKT"
      },
      "execution_count": null,
      "outputs": []
    },
    {
      "cell_type": "markdown",
      "source": [
        "17.Write a Python program to create and write a list of numbers to a file, one number per line:"
      ],
      "metadata": {
        "id": "uVcQTQdoqTdF"
      }
    },
    {
      "cell_type": "code",
      "source": [
        "numbers = [1, 2, 3, 4, 5]\n",
        "\n",
        "with open(\"numbers.txt\", \"w\") as file:\n",
        "    for number in numbers:\n",
        "        file.write(f\"{number}\\n\")"
      ],
      "metadata": {
        "id": "TZb5O5-cqWsa"
      },
      "execution_count": null,
      "outputs": []
    },
    {
      "cell_type": "markdown",
      "source": [
        "18.How would you implement a basic logging setup that logs to a file with rotation after 1MB?"
      ],
      "metadata": {
        "id": "CEXVUoScqZrD"
      }
    },
    {
      "cell_type": "code",
      "source": [
        "import logging\n",
        "from logging.handlers import RotatingFileHandler\n",
        "\n",
        "handler = RotatingFileHandler('app.log', maxBytes=1e6, backupCount=3)\n",
        "logging.basicConfig(handlers=[handler], level=logging.INFO)\n",
        "\n",
        "logging.info(\"This is an info message.\")"
      ],
      "metadata": {
        "id": "EBjD98Tzqcgm"
      },
      "execution_count": null,
      "outputs": []
    },
    {
      "cell_type": "markdown",
      "source": [
        "19.Write a program that handles both IndexError and KeyError using a try-except block:"
      ],
      "metadata": {
        "id": "gkazGTpFqflD"
      }
    },
    {
      "cell_type": "code",
      "source": [
        "my_list = [1, 2, 3]\n",
        "my_dict = {\"a\": 1, \"b\": 2}\n",
        "\n",
        "try:\n",
        "    print(my_list[5])\n",
        "except IndexError:\n",
        "    print(\"IndexError: List index is out of range.\")\n",
        "\n",
        "try:\n",
        "    print(my_dict[\"c\"])\n",
        "except KeyError:\n",
        "    print(\"KeyError: Key not found in the dictionary.\")"
      ],
      "metadata": {
        "id": "MeI1LrI8qjJH"
      },
      "execution_count": null,
      "outputs": []
    },
    {
      "cell_type": "markdown",
      "source": [
        "20.How would you open a file and read its contents using a context manager in Python?"
      ],
      "metadata": {
        "id": "1PADxGUyql1P"
      }
    },
    {
      "cell_type": "code",
      "source": [
        "with open(\"file.txt\", \"r\") as file:\n",
        "    content = file.read()\n",
        "    print(content)"
      ],
      "metadata": {
        "id": "auQSaddDqofo"
      },
      "execution_count": null,
      "outputs": []
    },
    {
      "cell_type": "markdown",
      "source": [
        "21.Write a Python program that reads a file and prints the number of occurrences of a specific word:"
      ],
      "metadata": {
        "id": "Plm0Z2rvqqwR"
      }
    },
    {
      "cell_type": "code",
      "source": [
        "word_to_count = \"Python\"\n",
        "count = 0\n",
        "\n",
        "with open(\"file.txt\", \"r\") as file:\n",
        "    for line in file:\n",
        "        count += line.lower().count(word_to_count.lower())\n",
        "\n",
        "print(f\"The word '{word_to_count}' appears {count} times.\")"
      ],
      "metadata": {
        "id": "8EAv1Eaeqtrc"
      },
      "execution_count": null,
      "outputs": []
    },
    {
      "cell_type": "markdown",
      "source": [
        "22.How can you check if a file is empty before attempting to read its contents?"
      ],
      "metadata": {
        "id": "xezm2s8zqwmr"
      }
    },
    {
      "cell_type": "code",
      "source": [
        "import os\n",
        "\n",
        "if os.stat(\"file.txt\").st_size == 0:\n",
        "    print(\"The file is empty.\")\n",
        "else:\n",
        "    with open(\"file.txt\", \"r\") as file:\n",
        "        content = file.read()\n",
        "        print(content)"
      ],
      "metadata": {
        "id": "9D5St1Uzq0OK"
      },
      "execution_count": null,
      "outputs": []
    },
    {
      "cell_type": "markdown",
      "source": [
        "23.Write a Python program that writes to a log file when an error occurs during file handling:"
      ],
      "metadata": {
        "id": "kaiJoCyFrIac"
      }
    },
    {
      "cell_type": "code",
      "source": [
        "import logging\n",
        "\n",
        "logging.basicConfig(filename='file_errors.log', level=logging.ERROR)\n",
        "\n",
        "try:\n",
        "    with open(\"file.txt\", \"r\") as file:\n",
        "        content = file.read()\n",
        "except FileNotFoundError as e:\n",
        "    logging.error(\"File not found: %s\", e)\n",
        "except Exception as e:\n",
        "    logging.error(\"An error occurred: %s\", e)"
      ],
      "metadata": {
        "id": "IAQLgMDarLHh"
      },
      "execution_count": null,
      "outputs": []
    },
    {
      "cell_type": "markdown",
      "source": [],
      "metadata": {
        "id": "lM6MgpcXqTRt"
      }
    }
  ]
}